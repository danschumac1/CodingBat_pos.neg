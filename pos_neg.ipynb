{
 "cells": [
  {
   "cell_type": "markdown",
   "id": "e7415f25",
   "metadata": {},
   "source": [
    "# Warmup-1 > pos_neg\n"
   ]
  },
  {
   "cell_type": "markdown",
   "id": "71dc1018",
   "metadata": {},
   "source": [
    "Given 2 int values, return True if one is negative and one is positive. Except if the parameter \"negative\" is True, then return True only if both are negative.\n",
    "\n",
    "\n",
    "pos_neg(1, -1, False) → True\n",
    "pos_neg(-1, 1, False) → True\n",
    "pos_neg(-4, -5, True) → True"
   ]
  },
  {
   "cell_type": "code",
   "execution_count": 1,
   "id": "a596f7d6",
   "metadata": {},
   "outputs": [],
   "source": [
    "def pos_neg(a, b, negative):\n",
    "  if negative == True:\n",
    "    if a & b <0:\n",
    "      return True\n",
    "    else:\n",
    "      return False\n",
    "  else:\n",
    "    if a<0 and b>0:\n",
    "      return True\n",
    "    elif a>0 and b<0:\n",
    "      return True\n",
    "    else:\n",
    "      return False"
   ]
  }
 ],
 "metadata": {
  "kernelspec": {
   "display_name": "Python 3 (ipykernel)",
   "language": "python",
   "name": "python3"
  },
  "language_info": {
   "codemirror_mode": {
    "name": "ipython",
    "version": 3
   },
   "file_extension": ".py",
   "mimetype": "text/x-python",
   "name": "python",
   "nbconvert_exporter": "python",
   "pygments_lexer": "ipython3",
   "version": "3.9.12"
  }
 },
 "nbformat": 4,
 "nbformat_minor": 5
}
